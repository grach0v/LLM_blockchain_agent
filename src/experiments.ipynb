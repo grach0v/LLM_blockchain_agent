{
 "cells": [
  {
   "cell_type": "code",
   "execution_count": 12,
   "metadata": {},
   "outputs": [
    {
     "data": {
      "text/plain": [
       "True"
      ]
     },
     "execution_count": 12,
     "metadata": {},
     "output_type": "execute_result"
    }
   ],
   "source": [
    "from dotenv import load_dotenv\n",
    "import json\n",
    "load_dotenv()"
   ]
  },
  {
   "cell_type": "code",
   "execution_count": 13,
   "metadata": {},
   "outputs": [],
   "source": [
    "from langchain_google_genai import ChatGoogleGenerativeAI\n",
    "from langgraph.graph import END, START, StateGraph, MessagesState\n",
    "from langchain_core.messages import HumanMessage\n",
    "from langgraph.types import Command\n",
    "from typing import Literal, TypedDict"
   ]
  },
  {
   "cell_type": "code",
   "execution_count": 14,
   "metadata": {},
   "outputs": [],
   "source": [
    "from web3 import Web3"
   ]
  },
  {
   "cell_type": "code",
   "execution_count": 15,
   "metadata": {},
   "outputs": [],
   "source": [
    "llm = ChatGoogleGenerativeAI(model='gemini-2.0-flash')"
   ]
  },
  {
   "cell_type": "code",
   "execution_count": 16,
   "metadata": {},
   "outputs": [],
   "source": [
    "def get_config() -> str:\n",
    "    '''\n",
    "    Provides LLM with information about the current environment.\n",
    "    '''\n",
    "\n",
    "    with open('../config.json') as f:\n",
    "        config = json.load(f)\n",
    "\n",
    "    return config"
   ]
  },
  {
   "cell_type": "code",
   "execution_count": 17,
   "metadata": {},
   "outputs": [],
   "source": [
    "class TransactionDecision(TypedDict):\n",
    "    recieve_address: str\n",
    "    amount: float"
   ]
  },
  {
   "cell_type": "code",
   "execution_count": 18,
   "metadata": {},
   "outputs": [],
   "source": [
    "def MainOnlyAgent(state: MessagesState) -> Command[Literal['execute_transaction']]:\n",
    "    '''\n",
    "    Main agent that executes transactions.\n",
    "    '''\n",
    "\n",
    "    # Get the information about the environment\n",
    "    config = get_config()\n",
    "    config = json.dumps(config, indent=4)\n",
    "\n",
    "    sys_prompt = '''\n",
    "        You are a trading expert agent. \n",
    "        You should perform one transaction based on the available information. \n",
    "        Your output should be a JSON object with the following structure:\n",
    "        {\n",
    "            'recieve_address': '<address>',\n",
    "            'amount': <float>\n",
    "        }\n",
    "    '''\n",
    "\n",
    "    user_prompt = '''\n",
    "        Informative config of the environment\n",
    "        {}\n",
    "    '''.format(config)\n",
    "\n",
    "    messages = [\n",
    "        {'role': 'system', 'content': sys_prompt},\n",
    "        {'role': 'user', 'content': user_prompt},\n",
    "    ]\n",
    "\n",
    "    transaction = llm.with_structured_output(TransactionDecision).invoke(messages)\n",
    "\n",
    "    return Command(\n",
    "        update={\n",
    "            'messages': [\n",
    "                HumanMessage(role='user', content=json.dumps(transaction)),\n",
    "            ]\n",
    "        },\n",
    "        goto='execute_transaction'\n",
    "    )\n"
   ]
  },
  {
   "cell_type": "code",
   "execution_count": 23,
   "metadata": {},
   "outputs": [],
   "source": [
    "def ExecuteTransaction(state: MessagesState) -> Command[Literal[END]]:\n",
    "    config = get_config()\n",
    "    ganache_url = config['ganache_url']\n",
    "    account_from = config['my_key']\n",
    "    private_key = config['my_secret_key']\n",
    "    w3 = Web3(Web3.HTTPProvider(ganache_url))\n",
    "\n",
    "    messages = state[\"messages\"]\n",
    "    message = messages[-1]\n",
    "\n",
    "    transaction = json.loads(message.content)\n",
    "    recieve_address = transaction['recieve_address']\n",
    "    amount = transaction['amount']\n",
    "\n",
    "    if w3.is_connected():\n",
    "        print('Connected to Ganache!')\n",
    "    else:\n",
    "        raise Exception('Connection failed!')\n",
    "    \n",
    "    nonce = w3.eth.get_transaction_count(account_from)\n",
    "\n",
    "    transaction = {\n",
    "        'nonce': nonce,\n",
    "        'to': recieve_address,\n",
    "        'value': w3.to_wei(amount, 'ether'), \n",
    "        'gas': 21000,                       # Standard gas limit for ETH transfer\n",
    "        'gasPrice': w3.to_wei('50', 'gwei')   # Gas price (adjust as needed)\n",
    "    }\n",
    "\n",
    "    signed_tx = w3.eth.account.sign_transaction(transaction, private_key)\n",
    "\n",
    "    tx_hash = w3.eth.send_raw_transaction(signed_tx.raw_transaction)\n",
    "\n",
    "    # Wait for the transaction to be mined and retrieve the receipt\n",
    "    tx_receipt = w3.eth.wait_for_transaction_receipt(tx_hash)\n",
    "\n",
    "    info = '''\n",
    "    Transaction executed successfully!\n",
    "    Transaction Hash: {}\n",
    "    Transaction Receipt: {}\n",
    "    From: {}\n",
    "    To: {}\n",
    "    Amount: {} ETH\n",
    "    '''.format(\n",
    "        tx_hash,\n",
    "        tx_receipt,\n",
    "        account_from,\n",
    "        recieve_address,\n",
    "        amount\n",
    "    )\n",
    "\n",
    "    return Command(\n",
    "        update={\n",
    "            'messages': [\n",
    "                HumanMessage(role='user', content=info),\n",
    "            ]\n",
    "        },\n",
    "        goto=END\n",
    "    )"
   ]
  },
  {
   "cell_type": "code",
   "execution_count": 24,
   "metadata": {},
   "outputs": [],
   "source": [
    "builder = StateGraph(MessagesState)\n",
    "\n",
    "builder.add_edge(START, 'main_only_agent')\n",
    "builder.add_node('main_only_agent', MainOnlyAgent)\n",
    "builder.add_node('execute_transaction', ExecuteTransaction)\n",
    "\n",
    "graph = builder.compile()"
   ]
  },
  {
   "cell_type": "code",
   "execution_count": 25,
   "metadata": {},
   "outputs": [
    {
     "data": {
      "image/png": "[encoded data removed]",
      "text/plain": [
       "<IPython.core.display.Image object>"
      ]
     },
     "metadata": {},
     "output_type": "display_data"
    }
   ],
   "source": [
    "from IPython.display import display, Image\n",
    "\n",
    "display(Image(graph.get_graph().draw_mermaid_png()))"
   ]
  },
  {
   "cell_type": "code",
   "execution_count": 26,
   "metadata": {},
   "outputs": [
    {
     "name": "stderr",
     "output_type": "stream",
     "text": [
      "/home/denis/miniconda3/envs/jb/lib/python3.13/site-packages/langchain_google_genai/chat_models.py:1410: UserWarning: ChatGoogleGenerativeAI.with_structured_output with dict schema has changed recently to align with behavior of other LangChain chat models. More context: https://github.com/langchain-ai/langchain-google/pull/772\n",
      "  warnings.warn(\n"
     ]
    },
    {
     "name": "stdout",
     "output_type": "stream",
     "text": [
      "((), {'main_only_agent': {'messages': [HumanMessage(content='{\"recieve_address\": \"0xD1dfB40454acb80203AEdB4db73f39A045FA8927\", \"amount\": 1.0}', additional_kwargs={}, response_metadata={}, role='user')]}})\n",
      "----\n",
      "Connected to Ganache!\n",
      "((), {'execute_transaction': {'messages': [HumanMessage(content=\"\\n    Transaction executed successfully!\\n    Transaction Hash: b'\\\\xae\\\\xaeR\\\\xe95a\\\\x93\\\\xb0Iv\\\\x1f\\\\xca\\\\xf2\\\\xe4\\\\x81;\\\\x99\\\\xbbew\\\\xbc\\\\x95b3\\\\xe8Pw8\\\\x18\\\\xb71\\\\x9a'\\n    Transaction Receipt: AttributeDict({'transactionHash': HexBytes('0xaeae52e9356193b049761fcaf2e4813b99bb6577bc956233e850773818b7319a'), 'transactionIndex': 0, 'blockNumber': 4, 'blockHash': HexBytes('0x203df6329745ffa7962b8d095f4156ac00b54b74d444e34744c2e1bbbe17c4ef'), 'from': '0xa6491ebE45EEcfeeA6E695ed898aaD8d506011a6', 'to': '0xD1dfB40454acb80203AEdB4db73f39A045FA8927', 'cumulativeGasUsed': 21000, 'gasUsed': 21000, 'contractAddress': None, 'logs': [], 'logsBloom': HexBytes('0x00000000000000000000000000000000000000000000000000000000000000000000000000000000000000000000000000000000000000000000000000000000000000000000000000000000000000000000000000000000000000000000000000000000000000000000000000000000000000000000000000000000000000000000000000000000000000000000000000000000000000000000000000000000000000000000000000000000000000000000000000000000000000000000000000000000000000000000000000000000000000000000000000000000000000000000000000000000000000000000000000000000000000000000000000000000'), 'status': 1, 'effectiveGasPrice': 50000000000, 'type': 0})\\n    From: 0xa6491ebE45EEcfeeA6E695ed898aaD8d506011a6\\n    To: 0xD1dfB40454acb80203AEdB4db73f39A045FA8927\\n    Amount: 1.0 ETH\\n    \", additional_kwargs={}, response_metadata={}, role='user')]}})\n",
      "----\n"
     ]
    }
   ],
   "source": [
    "for s in graph.stream(\n",
    "    {\"messages\": []}, subgraphs=True\n",
    "):\n",
    "    print(s)\n",
    "    print(\"----\")"
   ]
  },
  {
   "cell_type": "code",
   "execution_count": null,
   "metadata": {},
   "outputs": [],
   "source": []
  }
 ],
 "metadata": {
  "kernelspec": {
   "display_name": "jb",
   "language": "python",
   "name": "python3"
  },
  "language_info": {
   "codemirror_mode": {
    "name": "ipython",
    "version": 3
   },
   "file_extension": ".py",
   "mimetype": "text/x-python",
   "name": "python",
   "nbconvert_exporter": "python",
   "pygments_lexer": "ipython3",
   "version": "3.13.2"
  }
 },
 "nbformat": 4,
 "nbformat_minor": 2
}
